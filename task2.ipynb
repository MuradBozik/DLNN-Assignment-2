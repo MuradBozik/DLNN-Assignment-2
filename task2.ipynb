{
 "cells": [
  {
   "cell_type": "code",
   "execution_count": 14,
   "metadata": {},
   "outputs": [],
   "source": [
    "%config IPCompleter.greedy=True\n",
    "import tensorflow as tf\n",
    "import keras\n",
    "import os\n",
    "import pandas as pd\n",
    "import numpy as np\n",
    "import matplotlib.pyplot as plt\n",
    "from sklearn.datasets import fetch_openml"
   ]
  },
  {
   "cell_type": "code",
   "execution_count": 15,
   "metadata": {},
   "outputs": [],
   "source": [
    "gpus = tf.config.experimental.list_physical_devices('GPU')\n",
    "tf.config.experimental.set_memory_growth(gpus[0], True)"
   ]
  },
  {
   "cell_type": "markdown",
   "metadata": {},
   "source": [
    "#### Loading Datasets"
   ]
  },
  {
   "cell_type": "code",
   "execution_count": 16,
   "metadata": {},
   "outputs": [],
   "source": [
    "fashion_mnist = keras.datasets.fashion_mnist \n",
    "(Xf_train_full, yf_train_full), (Xf_test, yf_test) = fashion_mnist.load_data()\n",
    "Xf_test = Xf_test / 255.0\n",
    "Xf_valid, Xf_train = Xf_train_full[:5000] / 255.0, Xf_train_full[5000:] / 255.0\n",
    "yf_valid, yf_train = yf_train_full[:5000], yf_train_full[5000:]"
   ]
  },
  {
   "cell_type": "code",
   "execution_count": 17,
   "metadata": {},
   "outputs": [],
   "source": [
    "mnist = fetch_openml('mnist_784', version=1)\n",
    "Xm, ym = mnist[\"data\"].reshape(-1, 28, 28), mnist[\"target\"]\n",
    "ym = np.array(ym, dtype='uint8')\n",
    "Xm_train_full, Xm_test, ym_train_full, ym_test = Xm[:60000], Xm[60000:], ym[:60000], ym[60000:]\n",
    "Xm_valid, Xm_train = Xm_train_full[:5000] / 255.0, Xm_train_full[5000:] / 255.0\n",
    "ym_valid, ym_train = ym_train_full[:5000], ym_train_full[5000:]"
   ]
  },
  {
   "cell_type": "code",
   "execution_count": 20,
   "metadata": {},
   "outputs": [
    {
     "data": {
      "image/png": "[encoded data removed]",
      "text/plain": [
       "<Figure size 576x360 with 1 Axes>"
      ]
     },
     "metadata": {
      "needs_background": "light"
     },
     "output_type": "display_data"
    }
   ],
   "source": [
    "fig, ax = plt.subplots(figsize=(8, 5))\n",
    "ax.imshow(Xm_train[3], cmap='gray')\n",
    "ax.get_xaxis().set_visible(False)\n",
    "ax.get_yaxis().set_visible(False)\n",
    "plt.savefig(\"MNIST_sample.png\")"
   ]
  },
  {
   "cell_type": "code",
   "execution_count": 21,
   "metadata": {},
   "outputs": [
    {
     "data": {
      "image/png": "[encoded data removed]",
      "text/plain": [
       "<Figure size 576x360 with 1 Axes>"
      ]
     },
     "metadata": {
      "needs_background": "light"
     },
     "output_type": "display_data"
    }
   ],
   "source": [
    "fig, ax = plt.subplots(figsize=(8, 5))\n",
    "plt.gca().imshow(Xf_train[3], cmap='gray')\n",
    "ax.get_xaxis().set_visible(False)\n",
    "ax.get_yaxis().set_visible(False)\n",
    "plt.savefig(\"F_MNIST_sample.png\")"
   ]
  },
  {
   "cell_type": "markdown",
   "metadata": {},
   "source": [
    "#### Permuting Datasets"
   ]
  },
  {
   "cell_type": "code",
   "execution_count": 22,
   "metadata": {},
   "outputs": [],
   "source": [
    "rnd_state = np.random.RandomState(seed=42)\n",
    "permuter = rnd_state.permutation(784)\n",
    "\n",
    "Xf_train = Xf_train.reshape(Xf_train.shape[0], -1, 1)\n",
    "Xf_valid = Xf_valid.reshape(Xf_valid.shape[0], -1, 1)\n",
    "Xf_test = Xf_test.reshape(Xf_test.shape[0], -1, 1)\n",
    "\n",
    "Xf_train = Xf_train[:,permuter]\n",
    "Xf_valid = Xf_valid[:,permuter]\n",
    "Xf_test = Xf_test[:,permuter]\n",
    "\n",
    "Xf_train = Xf_train.reshape(-1, 28, 28)\n",
    "Xf_valid = Xf_valid.reshape(-1, 28, 28)\n",
    "Xf_test = Xf_test.reshape(-1, 28, 28)\n",
    "\n",
    "\n",
    "Xm_train = Xm_train.reshape(Xm_train.shape[0], -1, 1)\n",
    "Xm_valid = Xm_valid.reshape(Xm_valid.shape[0], -1, 1)\n",
    "Xm_test = Xm_test.reshape(Xm_test.shape[0], -1, 1)\n",
    "\n",
    "Xm_train = Xm_train[:,permuter]\n",
    "Xm_valid = Xm_valid[:,permuter]\n",
    "Xm_test = Xm_test[:,permuter]\n",
    "\n",
    "Xm_train = Xm_train.reshape(-1, 28, 28)\n",
    "Xm_valid = Xm_valid.reshape(-1, 28, 28)\n",
    "Xm_test = Xm_test.reshape(-1, 28, 28)"
   ]
  },
  {
   "cell_type": "code",
   "execution_count": 23,
   "metadata": {},
   "outputs": [
    {
     "data": {
      "image/png": "[encoded data removed]",
      "text/plain": [
       "<Figure size 576x360 with 1 Axes>"
      ]
     },
     "metadata": {
      "needs_background": "light"
     },
     "output_type": "display_data"
    }
   ],
   "source": [
    "fig, ax = plt.subplots(figsize=(8, 5))\n",
    "plt.gca().imshow(Xm_train[3], cmap='gray')\n",
    "ax.get_xaxis().set_visible(False)\n",
    "ax.get_yaxis().set_visible(False)\n",
    "plt.savefig(\"MNIST_sample_permuted.png\")"
   ]
  },
  {
   "cell_type": "code",
   "execution_count": 24,
   "metadata": {},
   "outputs": [
    {
     "data": {
      "image/png": "[encoded data removed]",
      "text/plain": [
       "<Figure size 576x360 with 1 Axes>"
      ]
     },
     "metadata": {
      "needs_background": "light"
     },
     "output_type": "display_data"
    }
   ],
   "source": [
    "fig, ax = plt.subplots(figsize=(8, 5))\n",
    "plt.gca().imshow(Xf_train[3], cmap='gray')\n",
    "ax.get_xaxis().set_visible(False)\n",
    "ax.get_yaxis().set_visible(False)\n",
    "plt.savefig(\"F_MNIST_sample_permuted.png\")"
   ]
  },
  {
   "cell_type": "markdown",
   "metadata": {},
   "source": [
    "#### Loading Best Models"
   ]
  },
  {
   "cell_type": "code",
   "execution_count": 21,
   "metadata": {},
   "outputs": [],
   "source": [
    "def load_model(model_path):\n",
    "        if os.path.exists(model_path):\n",
    "            try:\n",
    "                model = keras.models.load_model(model_path)\n",
    "                # We are decreasing epsilon because model does not need to be eager to explore\n",
    "                # self.epsilon = 0.01\n",
    "                return model\n",
    "            except:\n",
    "                print(\"Error happened during loading the model!\")\n",
    "                raise IOError\n",
    "        else:\n",
    "            print(\"Model cannot found!\")\n",
    "            return IOError"
   ]
  },
  {
   "cell_type": "code",
   "execution_count": 22,
   "metadata": {},
   "outputs": [],
   "source": [
    "def preprocessing(input_data):\n",
    "    return np.expand_dims(input_data, axis=3)"
   ]
  },
  {
   "cell_type": "code",
   "execution_count": 23,
   "metadata": {},
   "outputs": [],
   "source": [
    "mlp_model_path = \"./models/mlp.h5\"\n",
    "cnn_model_path = \"./models/cnn.h5\"\n",
    "\n",
    "mlp_net = load_model(mlp_model_path)\n",
    "cnn_net = load_model(cnn_model_path)"
   ]
  },
  {
   "cell_type": "markdown",
   "metadata": {},
   "source": [
    "### Retraining models on permuted datasets "
   ]
  },
  {
   "cell_type": "markdown",
   "metadata": {},
   "source": [
    "#### Permuted MNIST dataset"
   ]
  },
  {
   "cell_type": "code",
   "execution_count": 31,
   "metadata": {
    "scrolled": true
   },
   "outputs": [
    {
     "name": "stdout",
     "output_type": "stream",
     "text": [
      "Train on 55000 samples, validate on 5000 samples\n",
      "Epoch 1/30\n",
      "55000/55000 [==============================] - 9s 166us/step - loss: 0.0012 - accuracy: 0.9997 - val_loss: 0.1452 - val_accuracy: 0.9750\n",
      "Epoch 2/30\n",
      "55000/55000 [==============================] - 9s 163us/step - loss: 0.0037 - accuracy: 0.9988 - val_loss: 0.1514 - val_accuracy: 0.9738\n",
      "Epoch 3/30\n",
      "55000/55000 [==============================] - 9s 165us/step - loss: 0.0021 - accuracy: 0.9993 - val_loss: 0.1421 - val_accuracy: 0.9776\n",
      "Epoch 4/30\n",
      "55000/55000 [==============================] - 9s 162us/step - loss: 2.9847e-04 - accuracy: 1.0000 - val_loss: 0.1369 - val_accuracy: 0.9786\n",
      "Epoch 5/30\n",
      "55000/55000 [==============================] - 9s 166us/step - loss: 0.0030 - accuracy: 0.9991 - val_loss: 0.1434 - val_accuracy: 0.9768\n",
      "Epoch 6/30\n",
      "55000/55000 [==============================] - 9s 162us/step - loss: 0.0033 - accuracy: 0.9991 - val_loss: 0.1582 - val_accuracy: 0.9746\n",
      "Epoch 7/30\n",
      "55000/55000 [==============================] - 9s 164us/step - loss: 7.5231e-04 - accuracy: 0.9999 - val_loss: 0.1461 - val_accuracy: 0.9782\n",
      "Epoch 8/30\n",
      "55000/55000 [==============================] - 9s 164us/step - loss: 3.6415e-04 - accuracy: 1.0000 - val_loss: 0.1696 - val_accuracy: 0.9746\n",
      "Epoch 9/30\n",
      "55000/55000 [==============================] - 9s 164us/step - loss: 0.0040 - accuracy: 0.9988 - val_loss: 0.1452 - val_accuracy: 0.9772\n",
      "Epoch 10/30\n",
      "55000/55000 [==============================] - 9s 162us/step - loss: 0.0016 - accuracy: 0.9995 - val_loss: 0.1764 - val_accuracy: 0.9750\n",
      "Epoch 11/30\n",
      "55000/55000 [==============================] - 9s 160us/step - loss: 0.0029 - accuracy: 0.9991 - val_loss: 0.1534 - val_accuracy: 0.9774\n",
      "Epoch 12/30\n",
      "55000/55000 [==============================] - 9s 162us/step - loss: 1.2383e-04 - accuracy: 1.0000 - val_loss: 0.1499 - val_accuracy: 0.9784\n",
      "Epoch 13/30\n",
      "55000/55000 [==============================] - 9s 162us/step - loss: 6.4751e-05 - accuracy: 1.0000 - val_loss: 0.1515 - val_accuracy: 0.9776\n",
      "Epoch 14/30\n",
      "55000/55000 [==============================] - 9s 164us/step - loss: 0.0035 - accuracy: 0.9990 - val_loss: 0.1822 - val_accuracy: 0.9736\n"
     ]
    }
   ],
   "source": [
    "mlp_history = mlp_net.fit(Xm_train, ym_train, epochs=30, validation_data=(Xm_valid, ym_valid),\n",
    "                          callbacks=[keras.callbacks.EarlyStopping(patience=10)])"
   ]
  },
  {
   "cell_type": "code",
   "execution_count": 32,
   "metadata": {},
   "outputs": [
    {
     "data": {
      "image/png": "[encoded data removed]",
      "text/plain": [
       "<Figure size 576x360 with 1 Axes>"
      ]
     },
     "metadata": {
      "needs_background": "light"
     },
     "output_type": "display_data"
    }
   ],
   "source": [
    "pd.DataFrame(mlp_history.history).plot(figsize=(8, 5))\n",
    "plt.grid(True)\n",
    "plt.gca().set_ylim(0, 1) # set the vertical range to [0-1]\n",
    "plt.title(\"MLP performance on permuted MNIST\")\n",
    "plt.xlabel(\"Epochs\")\n",
    "plt.ylabel(\"Performance\")\n",
    "plt.savefig(\"MLP_permuted_MNIST.png\")\n",
    "plt.show()"
   ]
  },
  {
   "cell_type": "code",
   "execution_count": 33,
   "metadata": {},
   "outputs": [
    {
     "name": "stdout",
     "output_type": "stream",
     "text": [
      "10000/10000 [==============================] - 0s 26us/step\n"
     ]
    },
    {
     "data": {
      "text/plain": [
       "[63.22194151306152, 0.968999981880188]"
      ]
     },
     "execution_count": 33,
     "metadata": {},
     "output_type": "execute_result"
    }
   ],
   "source": [
    "mlp_net.evaluate(Xm_test, ym_test)"
   ]
  },
  {
   "cell_type": "code",
   "execution_count": 34,
   "metadata": {
    "scrolled": true
   },
   "outputs": [
    {
     "name": "stdout",
     "output_type": "stream",
     "text": [
      "Train on 55000 samples, validate on 5000 samples\n",
      "Epoch 1/30\n",
      "55000/55000 [==============================] - 17s 312us/step - loss: 0.3876 - accuracy: 0.8814 - val_loss: 0.2544 - val_accuracy: 0.9280\n",
      "Epoch 2/30\n",
      "55000/55000 [==============================] - 17s 300us/step - loss: 0.3537 - accuracy: 0.8941 - val_loss: 0.2377 - val_accuracy: 0.9312\n",
      "Epoch 3/30\n",
      "55000/55000 [==============================] - 16s 299us/step - loss: 0.3299 - accuracy: 0.9018 - val_loss: 0.2267 - val_accuracy: 0.9374\n",
      "Epoch 4/30\n",
      "55000/55000 [==============================] - 16s 299us/step - loss: 0.3122 - accuracy: 0.9065 - val_loss: 0.2098 - val_accuracy: 0.9360\n",
      "Epoch 5/30\n",
      "55000/55000 [==============================] - 16s 284us/step - loss: 0.2927 - accuracy: 0.9115 - val_loss: 0.2061 - val_accuracy: 0.9392\n",
      "Epoch 6/30\n",
      "55000/55000 [==============================] - 15s 266us/step - loss: 0.2748 - accuracy: 0.9167 - val_loss: 0.1882 - val_accuracy: 0.9438\n",
      "Epoch 7/30\n",
      "55000/55000 [==============================] - 12s 220us/step - loss: 0.2611 - accuracy: 0.9215 - val_loss: 0.1829 - val_accuracy: 0.9472\n",
      "Epoch 8/30\n",
      "55000/55000 [==============================] - 16s 294us/step - loss: 0.2505 - accuracy: 0.9250 - val_loss: 0.1792 - val_accuracy: 0.9466\n",
      "Epoch 9/30\n",
      "55000/55000 [==============================] - 16s 294us/step - loss: 0.2449 - accuracy: 0.9261 - val_loss: 0.1830 - val_accuracy: 0.9470\n",
      "Epoch 10/30\n",
      "55000/55000 [==============================] - 16s 294us/step - loss: 0.2442 - accuracy: 0.9273 - val_loss: 0.1766 - val_accuracy: 0.9468\n",
      "Epoch 11/30\n",
      "55000/55000 [==============================] - 16s 294us/step - loss: 0.2305 - accuracy: 0.9310 - val_loss: 0.1747 - val_accuracy: 0.9474\n",
      "Epoch 12/30\n",
      "55000/55000 [==============================] - 16s 294us/step - loss: 0.2187 - accuracy: 0.9335 - val_loss: 0.1614 - val_accuracy: 0.9540\n",
      "Epoch 13/30\n",
      "55000/55000 [==============================] - 16s 294us/step - loss: 0.2173 - accuracy: 0.9348 - val_loss: 0.1665 - val_accuracy: 0.9522\n",
      "Epoch 14/30\n",
      "55000/55000 [==============================] - 16s 294us/step - loss: 0.2168 - accuracy: 0.9332 - val_loss: 0.1628 - val_accuracy: 0.9526\n",
      "Epoch 15/30\n",
      "55000/55000 [==============================] - 16s 294us/step - loss: 0.2106 - accuracy: 0.9357 - val_loss: 0.1672 - val_accuracy: 0.9510\n",
      "Epoch 16/30\n",
      "55000/55000 [==============================] - 16s 294us/step - loss: 0.2043 - accuracy: 0.9376 - val_loss: 0.1590 - val_accuracy: 0.9530\n",
      "Epoch 17/30\n",
      "55000/55000 [==============================] - 13s 241us/step - loss: 0.1996 - accuracy: 0.9396 - val_loss: 0.1533 - val_accuracy: 0.9564\n",
      "Epoch 18/30\n",
      "55000/55000 [==============================] - 9s 158us/step - loss: 0.1940 - accuracy: 0.9415 - val_loss: 0.1539 - val_accuracy: 0.9542\n",
      "Epoch 19/30\n",
      "55000/55000 [==============================] - 9s 161us/step - loss: 0.1910 - accuracy: 0.9427 - val_loss: 0.1493 - val_accuracy: 0.9580\n",
      "Epoch 20/30\n",
      "55000/55000 [==============================] - 11s 208us/step - loss: 0.1869 - accuracy: 0.9433 - val_loss: 0.1510 - val_accuracy: 0.9580\n",
      "Epoch 21/30\n",
      "55000/55000 [==============================] - 16s 299us/step - loss: 0.1814 - accuracy: 0.9462 - val_loss: 0.1446 - val_accuracy: 0.9602\n",
      "Epoch 22/30\n",
      "55000/55000 [==============================] - 16s 292us/step - loss: 0.1839 - accuracy: 0.9443 - val_loss: 0.1480 - val_accuracy: 0.9566\n",
      "Epoch 23/30\n",
      "55000/55000 [==============================] - 16s 299us/step - loss: 0.1794 - accuracy: 0.9460 - val_loss: 0.1405 - val_accuracy: 0.9598\n",
      "Epoch 24/30\n",
      "55000/55000 [==============================] - 16s 295us/step - loss: 0.1750 - accuracy: 0.9470 - val_loss: 0.1449 - val_accuracy: 0.9572\n",
      "Epoch 25/30\n",
      "55000/55000 [==============================] - 16s 294us/step - loss: 0.1725 - accuracy: 0.9480 - val_loss: 0.1410 - val_accuracy: 0.9588\n",
      "Epoch 26/30\n",
      "55000/55000 [==============================] - 16s 294us/step - loss: 0.1694 - accuracy: 0.9486 - val_loss: 0.1452 - val_accuracy: 0.9554\n",
      "Epoch 27/30\n",
      "55000/55000 [==============================] - 16s 296us/step - loss: 0.1671 - accuracy: 0.9488 - val_loss: 0.1343 - val_accuracy: 0.9626\n",
      "Epoch 28/30\n",
      "55000/55000 [==============================] - 14s 252us/step - loss: 0.1625 - accuracy: 0.9507 - val_loss: 0.1411 - val_accuracy: 0.9602\n",
      "Epoch 29/30\n",
      "55000/55000 [==============================] - 16s 291us/step - loss: 0.1626 - accuracy: 0.9505 - val_loss: 0.1361 - val_accuracy: 0.9590\n",
      "Epoch 30/30\n",
      "55000/55000 [==============================] - 12s 219us/step - loss: 0.1614 - accuracy: 0.9509 - val_loss: 0.1374 - val_accuracy: 0.9602\n"
     ]
    }
   ],
   "source": [
    "cnn_history = cnn_net.fit(preprocessing(Xm_train), ym_train, epochs=30, \n",
    "                          validation_data=(preprocessing(Xm_valid), ym_valid),\n",
    "                          callbacks=[keras.callbacks.EarlyStopping(patience=10)])"
   ]
  },
  {
   "cell_type": "code",
   "execution_count": 35,
   "metadata": {},
   "outputs": [
    {
     "data": {
      "image/png": "[encoded data removed]",
      "text/plain": [
       "<Figure size 576x360 with 1 Axes>"
      ]
     },
     "metadata": {
      "needs_background": "light"
     },
     "output_type": "display_data"
    }
   ],
   "source": [
    "pd.DataFrame(cnn_history.history).plot(figsize=(8, 5))\n",
    "plt.grid(True)\n",
    "plt.gca().set_ylim(0, 1) # set the vertical range to [0-1]\n",
    "plt.title(\"CNN performance on permuted MNIST\")\n",
    "plt.xlabel(\"Epochs\")\n",
    "plt.ylabel(\"Performance\")\n",
    "plt.savefig(\"CNN_permuted_MNIST.png\")\n",
    "plt.show()"
   ]
  },
  {
   "cell_type": "code",
   "execution_count": 36,
   "metadata": {},
   "outputs": [
    {
     "name": "stdout",
     "output_type": "stream",
     "text": [
      "10000/10000 [==============================] - 2s 176us/step\n"
     ]
    },
    {
     "data": {
      "text/plain": [
       "[0.2842700809285045, 0.9143000245094299]"
      ]
     },
     "execution_count": 36,
     "metadata": {},
     "output_type": "execute_result"
    }
   ],
   "source": [
    "cnn_net.evaluate(preprocessing(Xm_test), ym_test)"
   ]
  },
  {
   "cell_type": "markdown",
   "metadata": {},
   "source": [
    "#### Permuted Fashion MNIST dataset"
   ]
  },
  {
   "cell_type": "code",
   "execution_count": 37,
   "metadata": {
    "scrolled": true
   },
   "outputs": [
    {
     "name": "stdout",
     "output_type": "stream",
     "text": [
      "Train on 55000 samples, validate on 5000 samples\n",
      "Epoch 1/30\n",
      "55000/55000 [==============================] - 9s 167us/step - loss: 1.1415 - accuracy: 0.7337 - val_loss: 0.6125 - val_accuracy: 0.8068\n",
      "Epoch 2/30\n",
      "55000/55000 [==============================] - 9s 155us/step - loss: 0.5520 - accuracy: 0.8120 - val_loss: 0.5273 - val_accuracy: 0.8308\n",
      "Epoch 3/30\n",
      "55000/55000 [==============================] - 5s 91us/step - loss: 0.4785 - accuracy: 0.8335 - val_loss: 0.4827 - val_accuracy: 0.8412\n",
      "Epoch 4/30\n",
      "55000/55000 [==============================] - 7s 121us/step - loss: 0.4363 - accuracy: 0.8455 - val_loss: 0.4489 - val_accuracy: 0.8468\n",
      "Epoch 5/30\n",
      "55000/55000 [==============================] - 7s 119us/step - loss: 0.4072 - accuracy: 0.8544 - val_loss: 0.4333 - val_accuracy: 0.8540\n",
      "Epoch 6/30\n",
      "55000/55000 [==============================] - 6s 110us/step - loss: 0.3855 - accuracy: 0.8612 - val_loss: 0.4120 - val_accuracy: 0.8544\n",
      "Epoch 7/30\n",
      "55000/55000 [==============================] - 9s 160us/step - loss: 0.3670 - accuracy: 0.8670 - val_loss: 0.4058 - val_accuracy: 0.8640\n",
      "Epoch 8/30\n",
      "55000/55000 [==============================] - 9s 156us/step - loss: 0.3534 - accuracy: 0.8711 - val_loss: 0.4074 - val_accuracy: 0.8610\n",
      "Epoch 9/30\n",
      "55000/55000 [==============================] - 9s 161us/step - loss: 0.3410 - accuracy: 0.8752 - val_loss: 0.3932 - val_accuracy: 0.8732\n",
      "Epoch 10/30\n",
      "55000/55000 [==============================] - 9s 161us/step - loss: 0.3293 - accuracy: 0.8795 - val_loss: 0.3847 - val_accuracy: 0.8704\n",
      "Epoch 11/30\n",
      "55000/55000 [==============================] - 9s 160us/step - loss: 0.3189 - accuracy: 0.8823 - val_loss: 0.3807 - val_accuracy: 0.8736\n",
      "Epoch 12/30\n",
      "55000/55000 [==============================] - 9s 161us/step - loss: 0.3093 - accuracy: 0.8849 - val_loss: 0.3894 - val_accuracy: 0.8750\n",
      "Epoch 13/30\n",
      "55000/55000 [==============================] - 9s 160us/step - loss: 0.3027 - accuracy: 0.8876 - val_loss: 0.3751 - val_accuracy: 0.8774\n",
      "Epoch 14/30\n",
      "55000/55000 [==============================] - 9s 161us/step - loss: 0.2960 - accuracy: 0.8905 - val_loss: 0.3759 - val_accuracy: 0.8734\n",
      "Epoch 15/30\n",
      "55000/55000 [==============================] - 9s 161us/step - loss: 0.2892 - accuracy: 0.8919 - val_loss: 0.3693 - val_accuracy: 0.8766\n",
      "Epoch 16/30\n",
      "55000/55000 [==============================] - 4s 81us/step - loss: 0.2844 - accuracy: 0.8936 - val_loss: 0.3748 - val_accuracy: 0.8754\n",
      "Epoch 17/30\n",
      "55000/55000 [==============================] - 6s 110us/step - loss: 0.2791 - accuracy: 0.8960 - val_loss: 0.3713 - val_accuracy: 0.8790\n",
      "Epoch 18/30\n",
      "55000/55000 [==============================] - 9s 162us/step - loss: 0.2742 - accuracy: 0.8973 - val_loss: 0.3712 - val_accuracy: 0.8790\n",
      "Epoch 19/30\n",
      "55000/55000 [==============================] - 9s 161us/step - loss: 0.2684 - accuracy: 0.8994 - val_loss: 0.3868 - val_accuracy: 0.8762\n",
      "Epoch 20/30\n",
      "55000/55000 [==============================] - 9s 161us/step - loss: 0.2646 - accuracy: 0.9010 - val_loss: 0.3795 - val_accuracy: 0.8820\n",
      "Epoch 21/30\n",
      "55000/55000 [==============================] - 9s 161us/step - loss: 0.2615 - accuracy: 0.9025 - val_loss: 0.3773 - val_accuracy: 0.8852\n",
      "Epoch 22/30\n",
      "55000/55000 [==============================] - 9s 160us/step - loss: 0.2570 - accuracy: 0.9041 - val_loss: 0.3914 - val_accuracy: 0.8816\n",
      "Epoch 23/30\n",
      "55000/55000 [==============================] - 9s 160us/step - loss: 0.2538 - accuracy: 0.9050 - val_loss: 0.3797 - val_accuracy: 0.8822\n",
      "Epoch 24/30\n",
      "55000/55000 [==============================] - 6s 113us/step - loss: 0.2496 - accuracy: 0.9059 - val_loss: 0.3856 - val_accuracy: 0.8816\n",
      "Epoch 25/30\n",
      "55000/55000 [==============================] - 5s 87us/step - loss: 0.2461 - accuracy: 0.9081 - val_loss: 0.3992 - val_accuracy: 0.8820\n"
     ]
    }
   ],
   "source": [
    "mlp_history = mlp_net.fit(Xf_train, yf_train, epochs=30, validation_data=(Xf_valid, yf_valid), \n",
    "                          callbacks=[keras.callbacks.EarlyStopping(patience=10)])"
   ]
  },
  {
   "cell_type": "code",
   "execution_count": 38,
   "metadata": {},
   "outputs": [
    {
     "data": {
      "image/png": "[encoded data removed]",
      "text/plain": [
       "<Figure size 576x360 with 1 Axes>"
      ]
     },
     "metadata": {
      "needs_background": "light"
     },
     "output_type": "display_data"
    }
   ],
   "source": [
    "pd.DataFrame(mlp_history.history).plot(figsize=(8, 5))\n",
    "plt.grid(True)\n",
    "plt.gca().set_ylim(0, 1) # set the vertical range to [0-1]\n",
    "plt.title(\"MLP performance on permuted Fashion MNIST\")\n",
    "plt.xlabel(\"Epochs\")\n",
    "plt.ylabel(\"Performance\")\n",
    "plt.savefig(\"MLP_permuted_F_MNIST.png\")\n",
    "plt.show()"
   ]
  },
  {
   "cell_type": "code",
   "execution_count": 39,
   "metadata": {},
   "outputs": [
    {
     "name": "stdout",
     "output_type": "stream",
     "text": [
      "10000/10000 [==============================] - 0s 27us/step\n"
     ]
    },
    {
     "data": {
      "text/plain": [
       "[0.41861664735078813, 0.8702999949455261]"
      ]
     },
     "execution_count": 39,
     "metadata": {},
     "output_type": "execute_result"
    }
   ],
   "source": [
    "mlp_net.evaluate(Xf_test, yf_test)"
   ]
  },
  {
   "cell_type": "code",
   "execution_count": 40,
   "metadata": {
    "scrolled": true
   },
   "outputs": [
    {
     "name": "stdout",
     "output_type": "stream",
     "text": [
      "Train on 55000 samples, validate on 5000 samples\n",
      "Epoch 1/30\n",
      "55000/55000 [==============================] - 17s 304us/step - loss: 1.0622 - accuracy: 0.6325 - val_loss: 0.6146 - val_accuracy: 0.7762\n",
      "Epoch 2/30\n",
      "55000/55000 [==============================] - 16s 295us/step - loss: 0.7095 - accuracy: 0.7427 - val_loss: 0.5562 - val_accuracy: 0.8030\n",
      "Epoch 3/30\n",
      "55000/55000 [==============================] - 16s 294us/step - loss: 0.6368 - accuracy: 0.7715 - val_loss: 0.5082 - val_accuracy: 0.8226\n",
      "Epoch 4/30\n",
      "55000/55000 [==============================] - 16s 282us/step - loss: 0.6011 - accuracy: 0.7838 - val_loss: 0.4757 - val_accuracy: 0.8340\n",
      "Epoch 5/30\n",
      "55000/55000 [==============================] - 14s 253us/step - loss: 0.5776 - accuracy: 0.7945 - val_loss: 0.4740 - val_accuracy: 0.8348\n",
      "Epoch 6/30\n",
      "55000/55000 [==============================] - 15s 265us/step - loss: 0.5542 - accuracy: 0.8034 - val_loss: 0.4557 - val_accuracy: 0.8390\n",
      "Epoch 7/30\n",
      "55000/55000 [==============================] - 16s 294us/step - loss: 0.5428 - accuracy: 0.8050 - val_loss: 0.4367 - val_accuracy: 0.8466\n",
      "Epoch 8/30\n",
      "55000/55000 [==============================] - 16s 294us/step - loss: 0.5197 - accuracy: 0.8139 - val_loss: 0.4470 - val_accuracy: 0.8382\n",
      "Epoch 9/30\n",
      "55000/55000 [==============================] - 16s 292us/step - loss: 0.5141 - accuracy: 0.8170 - val_loss: 0.4219 - val_accuracy: 0.8510\n",
      "Epoch 10/30\n",
      "55000/55000 [==============================] - 16s 294us/step - loss: 0.5083 - accuracy: 0.8201 - val_loss: 0.4123 - val_accuracy: 0.8522\n",
      "Epoch 11/30\n",
      "55000/55000 [==============================] - 16s 294us/step - loss: 0.4996 - accuracy: 0.8225 - val_loss: 0.4152 - val_accuracy: 0.8488\n",
      "Epoch 12/30\n",
      "55000/55000 [==============================] - 16s 294us/step - loss: 0.4850 - accuracy: 0.8281 - val_loss: 0.4151 - val_accuracy: 0.8528\n",
      "Epoch 13/30\n",
      "55000/55000 [==============================] - 16s 293us/step - loss: 0.4800 - accuracy: 0.8293 - val_loss: 0.4047 - val_accuracy: 0.8534\n",
      "Epoch 14/30\n",
      "55000/55000 [==============================] - 16s 294us/step - loss: 0.4789 - accuracy: 0.8289 - val_loss: 0.4084 - val_accuracy: 0.8574\n",
      "Epoch 15/30\n",
      "55000/55000 [==============================] - 16s 294us/step - loss: 0.4717 - accuracy: 0.8317 - val_loss: 0.4110 - val_accuracy: 0.8558\n",
      "Epoch 16/30\n",
      "55000/55000 [==============================] - 14s 254us/step - loss: 0.4649 - accuracy: 0.8359 - val_loss: 0.3975 - val_accuracy: 0.8584\n",
      "Epoch 17/30\n",
      "55000/55000 [==============================] - 16s 286us/step - loss: 0.4617 - accuracy: 0.8359 - val_loss: 0.3986 - val_accuracy: 0.8576\n",
      "Epoch 18/30\n",
      "55000/55000 [==============================] - 12s 222us/step - loss: 0.4617 - accuracy: 0.8372 - val_loss: 0.3971 - val_accuracy: 0.8550\n",
      "Epoch 19/30\n",
      "55000/55000 [==============================] - 16s 295us/step - loss: 0.4542 - accuracy: 0.8392 - val_loss: 0.3955 - val_accuracy: 0.8564\n",
      "Epoch 20/30\n",
      "55000/55000 [==============================] - 16s 295us/step - loss: 0.4626 - accuracy: 0.8363 - val_loss: 0.4025 - val_accuracy: 0.8566\n",
      "Epoch 21/30\n",
      "55000/55000 [==============================] - 16s 295us/step - loss: 0.4559 - accuracy: 0.8393 - val_loss: 0.3963 - val_accuracy: 0.8594\n",
      "Epoch 22/30\n",
      "55000/55000 [==============================] - 16s 295us/step - loss: 0.4509 - accuracy: 0.8397 - val_loss: 0.3846 - val_accuracy: 0.8608\n",
      "Epoch 23/30\n",
      "55000/55000 [==============================] - 16s 294us/step - loss: 0.4326 - accuracy: 0.8465 - val_loss: 0.3849 - val_accuracy: 0.8588\n",
      "Epoch 24/30\n",
      "55000/55000 [==============================] - 16s 292us/step - loss: 0.4374 - accuracy: 0.8438 - val_loss: 0.3821 - val_accuracy: 0.8652\n",
      "Epoch 25/30\n",
      "55000/55000 [==============================] - 14s 250us/step - loss: 0.4286 - accuracy: 0.8492 - val_loss: 0.3789 - val_accuracy: 0.8648\n",
      "Epoch 26/30\n",
      "55000/55000 [==============================] - 14s 258us/step - loss: 0.4274 - accuracy: 0.8485 - val_loss: 0.3772 - val_accuracy: 0.8674\n",
      "Epoch 27/30\n",
      "55000/55000 [==============================] - 16s 294us/step - loss: 0.4253 - accuracy: 0.8480 - val_loss: 0.3825 - val_accuracy: 0.8628\n",
      "Epoch 28/30\n",
      "55000/55000 [==============================] - 16s 295us/step - loss: 0.4287 - accuracy: 0.8466 - val_loss: 0.3706 - val_accuracy: 0.8664\n",
      "Epoch 29/30\n",
      "55000/55000 [==============================] - 16s 295us/step - loss: 0.4209 - accuracy: 0.8519 - val_loss: 0.3749 - val_accuracy: 0.8634\n",
      "Epoch 30/30\n",
      "55000/55000 [==============================] - 16s 295us/step - loss: 0.4263 - accuracy: 0.8492 - val_loss: 0.3713 - val_accuracy: 0.8676\n"
     ]
    }
   ],
   "source": [
    "cnn_history = cnn_net.fit(preprocessing(Xf_train), yf_train, epochs=30, \n",
    "                          validation_data=(preprocessing(Xf_valid), yf_valid), \n",
    "                          callbacks=[keras.callbacks.EarlyStopping(patience=10)])"
   ]
  },
  {
   "cell_type": "code",
   "execution_count": 41,
   "metadata": {},
   "outputs": [
    {
     "data": {
      "image/png": "[encoded data removed]",
      "text/plain": [
       "<Figure size 576x360 with 1 Axes>"
      ]
     },
     "metadata": {
      "needs_background": "light"
     },
     "output_type": "display_data"
    }
   ],
   "source": [
    "pd.DataFrame(cnn_history.history).plot(figsize=(8, 5))\n",
    "plt.grid(True)\n",
    "plt.gca().set_ylim(0, 1) # set the vertical range to [0-1]\n",
    "plt.title(\"CNN performance on permuted Fashion MNIST\")\n",
    "plt.xlabel(\"Epochs\")\n",
    "plt.ylabel(\"Performance\")\n",
    "plt.savefig(\"CNN_permuted_F_MNIST.png\")\n",
    "plt.show()"
   ]
  },
  {
   "cell_type": "code",
   "execution_count": 42,
   "metadata": {},
   "outputs": [
    {
     "name": "stdout",
     "output_type": "stream",
     "text": [
      "10000/10000 [==============================] - 1s 148us/step\n"
     ]
    },
    {
     "data": {
      "text/plain": [
       "[0.4091084234237671, 0.8522999882698059]"
      ]
     },
     "execution_count": 42,
     "metadata": {},
     "output_type": "execute_result"
    }
   ],
   "source": [
    "cnn_net.evaluate(preprocessing(Xf_test), yf_test)"
   ]
  },
  {
   "cell_type": "code",
   "execution_count": null,
   "metadata": {},
   "outputs": [],
   "source": []
  }
 ],
 "metadata": {
  "kernelspec": {
   "display_name": "deepLearning",
   "language": "python",
   "name": "deeplearning"
  },
  "language_info": {
   "codemirror_mode": {
    "name": "ipython",
    "version": 3
   },
   "file_extension": ".py",
   "mimetype": "text/x-python",
   "name": "python",
   "nbconvert_exporter": "python",
   "pygments_lexer": "ipython3",
   "version": "3.8.2"
  }
 },
 "nbformat": 4,
 "nbformat_minor": 4
}
